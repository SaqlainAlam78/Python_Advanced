{
 "cells": [
  {
   "cell_type": "raw",
   "id": "948a0321",
   "metadata": {},
   "source": [
    "Q1. What are the benefits of the built-in array package, if any?"
   ]
  },
  {
   "cell_type": "raw",
   "id": "268fd05a",
   "metadata": {},
   "source": [
    "Ans: Arrays represent multiple data items of the same type using a single name. In arrays, the elements can be accessed randomly by using the index number. Arrays allocate memory in contiguous memory locations for all its elements. Hence, there is no chance of extra memory being allocated in case of arrays. This avoids memory overflow or shortage of memory in arrays.\n",
    "\n",
    "Lists and NumPy Arrays usually are much better alternatives. That’s also the reason why rarely people knows Python has a built-in Array type.\n",
    "\n",
    "However, when something is restricted, it must bring some benefits. That is the so-call “trade-off”. In this case, Python Array will have a smaller size than Python List. This is demonstrated below."
   ]
  },
  {
   "cell_type": "code",
   "execution_count": 19,
   "id": "43aa8470",
   "metadata": {},
   "outputs": [
    {
     "data": {
      "text/plain": [
       "800040"
      ]
     },
     "execution_count": 19,
     "metadata": {},
     "output_type": "execute_result"
    }
   ],
   "source": [
    "from array import array\n",
    "list_large = list(range(0, 100000))\n",
    "arr_large = array('I', list_large)\n",
    "\n",
    "arr_large.__sizeof__()  #Size comes out to be 400064\n",
    "list_large.__sizeof__() #Size comes out to be 900088"
   ]
  },
  {
   "cell_type": "code",
   "execution_count": 20,
   "id": "be802105",
   "metadata": {},
   "outputs": [
    {
     "name": "stdout",
     "output_type": "stream",
     "text": [
      "array('i', [1, 2, 3, 4])\n"
     ]
    }
   ],
   "source": [
    "#Using Built in Array\n",
    "import array as built_in\n",
    "array1 = built_in.array('i', [1, 2])\n",
    "array1.append(3)\n",
    "array1.append(4)\n",
    "print(array1)"
   ]
  },
  {
   "cell_type": "raw",
   "id": "68db5e32",
   "metadata": {},
   "source": [
    "Q2. What are some of the array package's limitations ?"
   ]
  },
  {
   "cell_type": "raw",
   "id": "9c54f90e",
   "metadata": {},
   "source": [
    "Ans:\n",
    "\n",
    "The number of elements to be stored in an array should be known in advance.An array is a static structure (which means the array is of fixed size). Once declared the size of the array cannot be modified. The memory which is allocated to it cannot be increased or decreased.\n",
    "\n",
    "Insertion and deletion are quite difficult in an array as the elements are stored in consecutive memory locations and the shifting operation is costly.\n",
    "\n",
    "Allocating more memory than the requirement leads to wastage of memory space and less allocation of memory also leads to a problem"
   ]
  },
  {
   "cell_type": "raw",
   "id": "5a50a379",
   "metadata": {},
   "source": [
    "Q3. Describe the main differences between the array and numpy packages ?"
   ]
  },
  {
   "cell_type": "raw",
   "id": "2ef049e6",
   "metadata": {},
   "source": [
    "Ans: The array package doesn't provide any help with numerical calculation with the items insdie it in number form while NumPy give you a wide variety of numerical operations.\n",
    "\n",
    "An array is a single dimensional entity which hold the numerical data, while numpy can have more than 1 dimension.\n",
    "\n",
    "In case of array, item can be accessed by its index position and it is easy task while in numpy item is accessed by its column and row index, which makes it slightly time taking. Same goes with appending operation.\n",
    "\n",
    "In case of array we do not form a tabular structure, while in numpy it forms a tabular structure"
   ]
  },
  {
   "cell_type": "raw",
   "id": "cddd5420",
   "metadata": {},
   "source": [
    "Q4. Explain the distinctions between the empty, ones, and zeros functions ?"
   ]
  },
  {
   "cell_type": "raw",
   "id": "b04666f3",
   "metadata": {},
   "source": [
    "Ans: The distinctions between the empty, ones, and zero functions are as follows :\n",
    "\n",
    "Empty function: An empty function is a function that does not contain any statement within its body. If you try to write a function definition without any statement in python ,it will return an error. To avoid this, we use pass statement. pass is a special statement in Python that does nothing. It only works as a dummy statement.\n",
    "Ones: This function returns a new array of given shape and data type, where the element’s value is 1.\n",
    "Zeros: This function returns a new array of given shape and data type, where the element’s value is 0."
   ]
  },
  {
   "cell_type": "raw",
   "id": "59797046",
   "metadata": {},
   "source": [
    "Q5. In the fromfunction function, which is used to construct new arrays, what is the role of the callable argument ?"
   ]
  },
  {
   "cell_type": "raw",
   "id": "2b0b1d07",
   "metadata": {},
   "source": [
    "Ans: Its function is to execute the function over each coordinate and the resulting array. The function is called with N parameters, where N is the rank of shape. Each parameter represents the coordinates of the array varying along a specific axis."
   ]
  },
  {
   "cell_type": "raw",
   "id": "1aaa80df",
   "metadata": {},
   "source": [
    "Q6. What happens when a numpy array is combined with a single-value operand (a scalar, such as an int or a floating-point value) through addition, as in the expression A + n ?"
   ]
  },
  {
   "cell_type": "raw",
   "id": "8949ddb8",
   "metadata": {},
   "source": [
    "Ans: If any scaler value such as integer is added to the numpy array then all the elements inside the array will add that value in it."
   ]
  },
  {
   "cell_type": "raw",
   "id": "b8f72958",
   "metadata": {},
   "source": [
    "Q7. Can array-to-scalar operations use combined operation-assign operators (such as += or *=)? What is the outcome ?"
   ]
  },
  {
   "cell_type": "raw",
   "id": "4cdeb61c",
   "metadata": {},
   "source": [
    "Ans: It will carry out provided operation on all elements of array."
   ]
  },
  {
   "cell_type": "raw",
   "id": "39e022b8",
   "metadata": {},
   "source": [
    "Q8. Does a numpy array contain fixed-length strings? What happens if you allocate a longer string to one of these arrays ?"
   ]
  },
  {
   "cell_type": "raw",
   "id": "7902e5d3",
   "metadata": {},
   "source": [
    "Ans: : Yes, it is possible that we can include a string of fixed length in numpy array. The dtype of any numpy array containing string values is the maximum length of any string present in the array.Once set, it will only be able to store new string having length not more than the maximum length at the time of the creation. If we try to reassign some another string value having length greater than the maximum length of the existing elements, it simply discards all the values beyond the maximum length accept upto those values which are under the limit."
   ]
  },
  {
   "cell_type": "raw",
   "id": "89874160",
   "metadata": {},
   "source": [
    "Q9. What happens when you combine two numpy arrays using an operation like addition (+) or multiplication (*)? What are the conditions for combining two numpy arrays ?"
   ]
  },
  {
   "cell_type": "raw",
   "id": "545a2243",
   "metadata": {},
   "source": [
    "Ans: It will simply add or multiply element to element at same position."
   ]
  },
  {
   "cell_type": "raw",
   "id": "3b30c979",
   "metadata": {},
   "source": [
    "Q10. What is the best way to use a Boolean array to mask another array ?"
   ]
  },
  {
   "cell_type": "raw",
   "id": "3309183b",
   "metadata": {},
   "source": [
    "Ans: The best way to use a Boolean array to mask another array is by Using masked_where of numpy package"
   ]
  },
  {
   "cell_type": "markdown",
   "id": "b66de45a",
   "metadata": {},
   "source": [
    "Q11. What are three different ways to get the standard deviation of a wide collection of data using both standard Python and its packages? Sort the three of them by how quickly they execute ?"
   ]
  },
  {
   "cell_type": "markdown",
   "id": "f4a90676",
   "metadata": {},
   "source": [
    "Ans: std() from Numpy package, stdev() from Statistics package and the third way is to write our own code as done with the help of math package below:"
   ]
  },
  {
   "cell_type": "code",
   "execution_count": null,
   "id": "d334697a",
   "metadata": {},
   "outputs": [],
   "source": [
    "import numpy as np #for declaring an array\n",
    " \n",
    "def mean(data):\n",
    "  n = len(data)\n",
    "  mean = sum(data) / n\n",
    "  return mean\n",
    " \n",
    "def variance(data):\n",
    "  n = len(data)\n",
    "  mean = sum(data) / n\n",
    "  deviations = [(x - mean) ** 2 for x in data]\n",
    "  variance = sum(deviations) / n\n",
    "  return variance\n",
    " \n",
    "def stdev(data):\n",
    "  import math\n",
    "  var = variance(data)\n",
    "  std_dev = math.sqrt(var)\n",
    "  return std_dev\n",
    " \n",
    "data = np.array([7,5,4,9,12,54])\n",
    " \n",
    "print(\"Standard Deviation of the sample is % s \"% (stdev(data)))"
   ]
  },
  {
   "cell_type": "markdown",
   "id": "4ebbe533",
   "metadata": {},
   "source": [
    "Standard Deviation of the sample is 17.56337730114064 "
   ]
  },
  {
   "cell_type": "raw",
   "id": "231cf167",
   "metadata": {},
   "source": [
    "12. What is the dimensionality of a Boolean mask-generated array ?"
   ]
  },
  {
   "cell_type": "markdown",
   "id": "37459663",
   "metadata": {},
   "source": [
    "Ans: It will have same dimensionality as input array. Masking comes up when we want to extract, modify, count, or otherwise manipulate values in an array based on some criterion: for example, we might wish to count all values greater than a certain value, or perhaps remove all outliers that are above some threshold. In NumPy, Boolean masking is often the most efficient way to accomplish these types of tasks."
   ]
  }
 ],
 "metadata": {
  "kernelspec": {
   "display_name": "Python 3 (ipykernel)",
   "language": "python",
   "name": "python3"
  },
  "language_info": {
   "codemirror_mode": {
    "name": "ipython",
    "version": 3
   },
   "file_extension": ".py",
   "mimetype": "text/x-python",
   "name": "python",
   "nbconvert_exporter": "python",
   "pygments_lexer": "ipython3",
   "version": "3.9.7"
  }
 },
 "nbformat": 4,
 "nbformat_minor": 5
}
